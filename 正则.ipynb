{
 "cells": [
  {
   "cell_type": "code",
   "execution_count": 11,
   "id": "a79273a7-0c58-4b26-b7a4-b486f3fb5e45",
   "metadata": {},
   "outputs": [
    {
     "name": "stdout",
     "output_type": "stream",
     "text": [
      "['线性', '回归', '逻辑', '回归', '支持', '向量', 'SV', '决策', 'KN', '随机', '森林', '梯度', '提升', '树等']\n"
     ]
    },
    {
     "data": {
      "text/plain": [
       "'线性回归、'"
      ]
     },
     "execution_count": 11,
     "metadata": {},
     "output_type": "execute_result"
    }
   ],
   "source": [
    "import re\n",
    "s = \"：线性回归、逻辑回归、支持向量机（SVM）、决策树、KNN、随机森林、梯度提升树等。\"\n",
    "pattern = re.compile(r'.')\n",
    "res = re.findall(pattern, s)\n",
    "\n",
    "# 2\n",
    "pattern = re.compile(r'[^a-zA-Z]')\n",
    "re.findall(pattern, s)\n",
    "\n",
    "# 3\n",
    "pattern = re.compile(r'\\w')\n",
    "re.findall(pattern, s)\n",
    "\n",
    "# 模糊匹配\n",
    "pattern = re.compile(r'\\w{1,4}')\n",
    "re.findall(pattern, s)\n",
    "# match（不跳过开头） search（跳过开头）\n",
    "pattern = re.compile(r'\\w{1,4}')\n",
    "match = re.search(pattern, s)\n",
    "match.group()\n",
    "\n",
    "# sub\n",
    "pattern = re.compile(r'\\w{2}')\n",
    "print(re.findall(pattern, s))\n",
    "re.sub(pattern,\"gg\", s) # 返回结果\n",
    "re.subn(pattern,\"gg\", s) # 返回tuple\n",
    "\n",
    "# split 切割成list元素\n",
    "\n",
    "# ‘(?P<group_name>)’ + : 匹配前一个字符一次或多次\n",
    "pattern = re.compile(r'(?P<gun>\\w+)(?P<yuan>\\W+)')\n",
    "match = re.search(pattern, s)\n",
    "match.group('gun')\n",
    "\n"
   ]
  },
  {
   "cell_type": "code",
   "execution_count": null,
   "id": "eccf48c0-38be-4d8e-8191-6127fe0ab877",
   "metadata": {},
   "outputs": [],
   "source": []
  }
 ],
 "metadata": {
  "kernelspec": {
   "display_name": "Python 3 (ipykernel)",
   "language": "python",
   "name": "python3"
  },
  "language_info": {
   "codemirror_mode": {
    "name": "ipython",
    "version": 3
   },
   "file_extension": ".py",
   "mimetype": "text/x-python",
   "name": "python",
   "nbconvert_exporter": "python",
   "pygments_lexer": "ipython3",
   "version": "3.10.6"
  }
 },
 "nbformat": 4,
 "nbformat_minor": 5
}
